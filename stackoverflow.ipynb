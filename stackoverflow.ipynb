{
 "cells": [
  {
   "cell_type": "code",
   "execution_count": 1,
   "metadata": {},
   "outputs": [],
   "source": [
    "import pathpyG as pp\n",
    "import pandas as pd\n",
    "import matplotlib.pyplot as plt\n",
    "import networkx as nx\n",
    "import torch\n",
    "from collections import defaultdict, deque\n",
    "import numpy as np\n",
    "import time"
   ]
  },
  {
   "cell_type": "code",
   "execution_count": 2,
   "metadata": {},
   "outputs": [
    {
     "data": {
      "text/html": [
       "<div>\n",
       "<style scoped>\n",
       "    .dataframe tbody tr th:only-of-type {\n",
       "        vertical-align: middle;\n",
       "    }\n",
       "\n",
       "    .dataframe tbody tr th {\n",
       "        vertical-align: top;\n",
       "    }\n",
       "\n",
       "    .dataframe thead th {\n",
       "        text-align: right;\n",
       "    }\n",
       "</style>\n",
       "<table border=\"1\" class=\"dataframe\">\n",
       "  <thead>\n",
       "    <tr style=\"text-align: right;\">\n",
       "      <th></th>\n",
       "      <th>source</th>\n",
       "      <th>destination</th>\n",
       "      <th>timestamp</th>\n",
       "    </tr>\n",
       "  </thead>\n",
       "  <tbody>\n",
       "    <tr>\n",
       "      <th>0</th>\n",
       "      <td>9</td>\n",
       "      <td>8</td>\n",
       "      <td>1217567877</td>\n",
       "    </tr>\n",
       "    <tr>\n",
       "      <th>1</th>\n",
       "      <td>1</td>\n",
       "      <td>1</td>\n",
       "      <td>1217573801</td>\n",
       "    </tr>\n",
       "    <tr>\n",
       "      <th>2</th>\n",
       "      <td>13</td>\n",
       "      <td>1</td>\n",
       "      <td>1217606247</td>\n",
       "    </tr>\n",
       "    <tr>\n",
       "      <th>3</th>\n",
       "      <td>17</td>\n",
       "      <td>1</td>\n",
       "      <td>1217617639</td>\n",
       "    </tr>\n",
       "    <tr>\n",
       "      <th>4</th>\n",
       "      <td>48</td>\n",
       "      <td>2</td>\n",
       "      <td>1217618182</td>\n",
       "    </tr>\n",
       "  </tbody>\n",
       "</table>\n",
       "</div>"
      ],
      "text/plain": [
       "   source  destination   timestamp\n",
       "0       9            8  1217567877\n",
       "1       1            1  1217573801\n",
       "2      13            1  1217606247\n",
       "3      17            1  1217617639\n",
       "4      48            2  1217618182"
      ]
     },
     "execution_count": 2,
     "metadata": {},
     "output_type": "execute_result"
    }
   ],
   "source": [
    "df = pd.read_csv('sx-stackoverflow-a2q.txt', sep=\" \", header=None )\n",
    "df.columns = ['source', 'destination', 'timestamp']\n",
    "df.head()"
   ]
  },
  {
   "cell_type": "code",
   "execution_count": 3,
   "metadata": {},
   "outputs": [],
   "source": [
    "df.dropna(inplace=True)  # Drop rows with missing values\n",
    "\n",
    "# Convert cleaned DataFrame to list of tuples (source, destination, timestamp)\n",
    "data_tuples = list(df.itertuples(index=False, name=None))"
   ]
  },
  {
   "cell_type": "code",
   "execution_count": 4,
   "metadata": {},
   "outputs": [
    {
     "name": "stdout",
     "output_type": "stream",
     "text": [
      "17823525\n"
     ]
    }
   ],
   "source": [
    "print(len(df))"
   ]
  },
  {
   "cell_type": "code",
   "execution_count": 4,
   "metadata": {},
   "outputs": [
    {
     "name": "stdout",
     "output_type": "stream",
     "text": [
      "Average time interval: 13.448452505800761 seconds\n"
     ]
    }
   ],
   "source": [
    "# Step 1: Extract and sort timestamps\n",
    "timestamps = df['timestamp'].sort_values().to_numpy()\n",
    "\n",
    "# Step 2: Calculate time intervals\n",
    "intervals = np.diff(timestamps)\n",
    "\n",
    "# Step 3: Calculate average interval\n",
    "average_interval = np.mean(intervals)\n",
    "\n",
    "print(f\"Average time interval: {average_interval} seconds\")"
   ]
  },
  {
   "cell_type": "code",
   "execution_count": 6,
   "metadata": {},
   "outputs": [],
   "source": [
    "# Define the PaCo algorithm\n",
    "def paco(data, delta, max_length):\n",
    "    \"\"\"\n",
    "    Implements the PaCo algorithm for counting causal paths in temporal networks.\n",
    "    \n",
    "    Args:\n",
    "    - data: List of tuples (source, destination, timestamp).\n",
    "    - delta: Maximum time difference between consecutive links.\n",
    "    - max_length: Maximum path length (K).\n",
    "    \n",
    "    Returns:\n",
    "    - path_counts: Dictionary of causal paths and their counts.\n",
    "    \"\"\"\n",
    "    # Sort data by timestamp\n",
    "    data = sorted(data, key=lambda x: x[2])\n",
    "    \n",
    "    # Initialize sliding window and path counters\n",
    "    window = deque()  # Sliding window\n",
    "    path_counts = defaultdict(int)  # Overall causal path counts\n",
    "    \n",
    "    # Iterate through each link in the data\n",
    "    for (s, d, t) in data:\n",
    "        current_counts = defaultdict(int)  # Local counts for current link\n",
    "        current_counts[(s, d)] = 1  # A single link is a causal path of length 1\n",
    "        \n",
    "        # Update the sliding window: remove outdated links\n",
    "        while window and window[0][2] < t - delta:\n",
    "            window.popleft()\n",
    "        \n",
    "        # Extend paths from the sliding window\n",
    "        for (prev_s, prev_d, prev_t, prev_counts) in window:\n",
    "            if prev_d == s and prev_t < t:  # Valid path extension\n",
    "                for path, count in prev_counts.items():\n",
    "                    if len(path) < max_length:  # Enforce maximum path length\n",
    "                        extended_path = path + (d,)\n",
    "                        current_counts[extended_path] += count\n",
    "        \n",
    "        # Update global counts\n",
    "        for path, count in current_counts.items():\n",
    "            path_counts[path] += count\n",
    "        \n",
    "        # Add current link and its paths to the sliding window\n",
    "        window.append((s, d, t, current_counts))\n",
    "    \n",
    "    return path_counts\n"
   ]
  },
  {
   "cell_type": "code",
   "execution_count": 7,
   "metadata": {},
   "outputs": [
    {
     "name": "stdout",
     "output_type": "stream",
     "text": [
      "Max Time Delta: 600, Max length: 2 -> Time Taken: 23.8435 seconds\n",
      "Max Time Delta: 600, Max length: 3 -> Time Taken: 24.2523 seconds\n",
      "Max Time Delta: 600, Max length: 4 -> Time Taken: 24.4683 seconds\n",
      "Max Time Delta: 1200, Max length: 2 -> Time Taken: 36.9378 seconds\n",
      "Max Time Delta: 1200, Max length: 3 -> Time Taken: 37.4337 seconds\n",
      "Max Time Delta: 1200, Max length: 4 -> Time Taken: 37.0633 seconds\n",
      "Max Time Delta: 1800, Max length: 2 -> Time Taken: 49.3748 seconds\n",
      "Max Time Delta: 1800, Max length: 3 -> Time Taken: 50.1736 seconds\n",
      "Max Time Delta: 1800, Max length: 4 -> Time Taken: 49.2896 seconds\n"
     ]
    }
   ],
   "source": [
    "delta_values = [600, 1200, 1800]\n",
    "max_length_values = [2, 3, 4]\n",
    "\n",
    "# Loop through the values and measure execution time\n",
    "for delta in delta_values:\n",
    "    for max_length in max_length_values:\n",
    "        start_time = time.time()  # Record start time\n",
    "        results = paco(data_tuples, delta, max_length)\n",
    "        end_time = time.time()  # Record end time\n",
    "        elapsed_time = end_time - start_time  # Calculate elapsed time\n",
    "        \n",
    "        print(f\"Max Time Delta: {delta}, Max length: {max_length} -> Time Taken: {elapsed_time:.4f} seconds\")"
   ]
  },
  {
   "cell_type": "code",
   "execution_count": 7,
   "metadata": {},
   "outputs": [
    {
     "data": {
      "image/png": "[encoded data removed]",
      "text/plain": [
       "<Figure size 1000x600 with 1 Axes>"
      ]
     },
     "metadata": {},
     "output_type": "display_data"
    }
   ],
   "source": [
    "max_lengths = [2, 3, 4]\n",
    "deltas = [600, 1200, 1800]\n",
    "\n",
    "times = {\n",
    "    600: [23.8435, 24.2523, 24.4683],\n",
    "    1200: [36.9378, 37.4337, 37.0633],\n",
    "    1800: [49.3748, 50.1736, 49.2896]\n",
    "}\n",
    "\n",
    "# Plotting\n",
    "plt.figure(figsize=(10, 6))\n",
    "\n",
    "for delta in deltas:\n",
    "    plt.plot(max_lengths, times[delta], marker='o', label=f'Max Time Delta: {delta}')\n",
    "\n",
    "# Labels and legend\n",
    "plt.xlabel('Max Length', fontsize=12)\n",
    "plt.ylabel('Time Taken (seconds)', fontsize=12)\n",
    "plt.title('PaCo performance on the StackOverflow dataset', fontsize=14)\n",
    "plt.legend()\n",
    "plt.grid(True)\n",
    "plt.show()"
   ]
  },
  {
   "cell_type": "code",
   "execution_count": 5,
   "metadata": {},
   "outputs": [],
   "source": [
    "G_stackoverflow = nx.DiGraph()\n",
    "for index, row in df.iterrows():\n",
    "    G_stackoverflow.add_edge(row['source'], row['destination'], timestamp=row['timestamp'])"
   ]
  },
  {
   "cell_type": "code",
   "execution_count": 9,
   "metadata": {},
   "outputs": [
    {
     "name": "stdout",
     "output_type": "stream",
     "text": [
      "2.6779131477765867e-06\n"
     ]
    }
   ],
   "source": [
    "print(nx.density(G_stackoverflow))\n",
    "#print(nx.average_clustering(G_stackoverflow))"
   ]
  },
  {
   "cell_type": "code",
   "execution_count": 6,
   "metadata": {},
   "outputs": [],
   "source": [
    "call_edge_list = list(df.itertuples(index=False, name=None))\n",
    "graph = pp.TemporalGraph.from_edge_list(call_edge_list)"
   ]
  },
  {
   "cell_type": "code",
   "execution_count": 7,
   "metadata": {},
   "outputs": [
    {
     "ename": "",
     "evalue": "",
     "output_type": "error",
     "traceback": [
      "\u001b[1;31mThe Kernel crashed while executing code in the current cell or a previous cell. \n",
      "\u001b[1;31mPlease review the code in the cell(s) to identify a possible cause of the failure. \n",
      "\u001b[1;31mClick <a href='https://aka.ms/vscodeJupyterKernelCrash'>here</a> for more info. \n",
      "\u001b[1;31mView Jupyter <a href='command:jupyter.viewOutput'>log</a> for further details."
     ]
    }
   ],
   "source": [
    "delta_values = [6000, 12000, 18000]\n",
    "max_order_values = [2, 3, 4]\n",
    "\n",
    "for delta in delta_values:\n",
    "    for max_order in max_order_values:\n",
    "        start_time = time.time()  \n",
    "        temporal_paths = pp.MultiOrderModel.from_temporal_graph(graph, delta=delta, max_order=max_order)\n",
    "        end_time = time.time()  \n",
    "        elapsed_time = end_time - start_time  \n",
    "        \n",
    "        print(f\"Delta: {delta}, Max Order: {max_order} -> Time Taken: {elapsed_time:.4f} seconds\")"
   ]
  },
  {
   "cell_type": "code",
   "execution_count": 89,
   "metadata": {},
   "outputs": [],
   "source": [
    "combined_graph = []\n",
    "for i in range(1,4):\n",
    "    paths = temporal_paths.layers[i]\n",
    "    for path in paths.edges:\n",
    "        combined_graph.append(path)"
   ]
  },
  {
   "cell_type": "code",
   "execution_count": 90,
   "metadata": {},
   "outputs": [
    {
     "name": "stdout",
     "output_type": "stream",
     "text": [
      "409887\n"
     ]
    }
   ],
   "source": [
    "print(len(combined_graph))"
   ]
  }
 ],
 "metadata": {
  "kernelspec": {
   "display_name": "base",
   "language": "python",
   "name": "python3"
  },
  "language_info": {
   "codemirror_mode": {
    "name": "ipython",
    "version": 3
   },
   "file_extension": ".py",
   "mimetype": "text/x-python",
   "name": "python",
   "nbconvert_exporter": "python",
   "pygments_lexer": "ipython3",
   "version": "3.12.4"
  }
 },
 "nbformat": 4,
 "nbformat_minor": 2
}
